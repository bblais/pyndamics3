{
 "cells": [
  {
   "cell_type": "code",
   "execution_count": null,
   "id": "19a01dbb-9e0f-492e-979a-eb43da88dbb5",
   "metadata": {},
   "outputs": [],
   "source": [
    "# default_exp chem"
   ]
  },
  {
   "cell_type": "code",
   "execution_count": null,
   "id": "9a9d7a16-563c-4e82-ad91-c85ca16cd57b",
   "metadata": {},
   "outputs": [
    {
     "name": "stdout",
     "output_type": "stream",
     "text": [
      "Populating the interactive namespace from numpy and matplotlib\n"
     ]
    }
   ],
   "source": [
    "%pylab inline"
   ]
  },
  {
   "cell_type": "code",
   "execution_count": null,
   "id": "2cce237c-c14d-4272-98b6-14698d542cef",
   "metadata": {},
   "outputs": [],
   "source": []
  },
  {
   "cell_type": "code",
   "execution_count": null,
   "id": "fe7208a0-54f9-45ba-82ff-517834e39b6d",
   "metadata": {},
   "outputs": [],
   "source": [
    "#export\n",
    "def ChemSimulation(eqnstr,verbose=True,**kwargs):\n",
    "    from pyndamics3 import Simulation\n",
    "    lines=eqnstr.strip().split('\\n')\n",
    "    \n",
    "    components=set([])\n",
    "    parameters=set([])\n",
    "    for line in lines:\n",
    "        lhs=[_.strip() for _ in line.split('--')[0].strip().split('+')]\n",
    "        rhs=[_.strip() for _ in line.split('->')[-1].strip().split('+')]\n",
    "        middle=line.split('--')[1].lstrip('\\t ->').split('->')[0].rstrip('\\t ->')\n",
    "\n",
    "        components=components.union(set(lhs+rhs))\n",
    "        parameters=parameters.union([middle])\n",
    "        \n",
    "        if verbose:\n",
    "            print(lhs,middle,rhs)\n",
    "        \n",
    "        \n",
    "    components=sorted(components)\n",
    "    parameters=sorted(parameters)\n",
    "    \n",
    "    if verbose:\n",
    "        print(\"Components\",components)\n",
    "        print(\"Parameters\",parameters)\n",
    "    \n",
    "    \n",
    "    diffeqs=[]\n",
    "    for c in components:\n",
    "        \n",
    "        if c=='ϕ':\n",
    "            continue\n",
    "        \n",
    "        eqn=\"%s' = \" % c\n",
    "\n",
    "        for line in lines:\n",
    "            lhs=[_.strip() for _ in line.split('--')[0].strip().split('+')]\n",
    "            rhs=[_.strip() for _ in line.split('->')[-1].strip().split('+')]\n",
    "            middle=line.split('--')[1].lstrip('\\t ->').split('->')[0].rstrip('\\t ->')\n",
    "\n",
    "\n",
    "            sign='0'\n",
    "            if c in lhs:\n",
    "                sign='-'\n",
    "                if len(rhs)>1:\n",
    "                    sign+='%d*' % len(rhs)\n",
    "\n",
    "\n",
    "            if c in rhs:\n",
    "                sign='+'\n",
    "                if len(lhs)>1:\n",
    "                    sign+='%d*' % len(lhs)\n",
    "\n",
    "            if sign=='0':\n",
    "                continue\n",
    "                \n",
    "            if c in rhs and c in lhs:  # A -> A +B doesn't change A\n",
    "                continue\n",
    "\n",
    "            plhs='*'.join(lhs)\n",
    "\n",
    "            eqn+=f\" {sign}{middle}*{plhs}\"\n",
    "\n",
    "        if eqn==\"%s' = \" % c:\n",
    "            eqn=\"%s' = 0\" % c\n",
    "            \n",
    "        diffeqs.append(eqn)  \n",
    "        \n",
    "    if verbose:\n",
    "        print(\"diffeqs\",diffeqs)\n",
    "        \n",
    "    sim=Simulation()\n",
    "        \n",
    "    for c,d in zip(components,diffeqs):\n",
    "        if not c in kwargs:\n",
    "            c0=0\n",
    "        else:\n",
    "            c0=kwargs[c]\n",
    "            \n",
    "            \n",
    "        sim.add(d,c0)\n",
    "        \n",
    "    for p in parameters:\n",
    "        if p in kwargs:\n",
    "            sim.params(**{p:kwargs[p]})\n",
    "        \n",
    "    return sim"
   ]
  },
  {
   "cell_type": "code",
   "execution_count": null,
   "id": "6d870697-34e6-44b5-9aaf-b2f7662ffa81",
   "metadata": {},
   "outputs": [
    {
     "name": "stdout",
     "output_type": "stream",
     "text": [
      "['D'] k1 ['D', 'M']\n",
      "['M'] k2 ['M', 'P']\n",
      "['M'] k3 ['ϕ']\n",
      "['P'] k4 ['ϕ']\n",
      "Components ['D', 'M', 'P', 'ϕ']\n",
      "Parameters ['k1', 'k2', 'k3', 'k4']\n",
      "diffeqs [\"D' = 0\", \"M' =  +k1*D -k3*M\", \"P' =  +k2*M -k4*P\"]\n"
     ]
    }
   ],
   "source": [
    "sim=ChemSimulation(\n",
    "\"\"\"\n",
    "D --k1--> D+M\n",
    "M --k2--> M+P\n",
    "M --k3--> ϕ\n",
    "P --k4--> ϕ\n",
    "\"\"\",D=1,M=0,ϕ=0,P=0,k1=.01,k3=0.00577,k4=0.0001925,k2=20*0.00577)"
   ]
  },
  {
   "cell_type": "code",
   "execution_count": null,
   "id": "560c8668-0c4c-4e7a-a465-17259a2f9bf3",
   "metadata": {},
   "outputs": [
    {
     "name": "stdout",
     "output_type": "stream",
     "text": [
      "['A'] k1 ['B']\n",
      "['B'] k_1 ['A']\n",
      "['A', 'B'] k2 ['C']\n",
      "['C'] k_2 ['A', 'B']\n",
      "Components ['A', 'B', 'C']\n",
      "Parameters ['k1', 'k2', 'k_1', 'k_2']\n",
      "diffeqs [\"A' =  -k1*A +k_1*B -k2*A*B +k_2*C\", \"B' =  +k1*A -k_1*B -k2*A*B +k_2*C\", \"C' =  +2*k2*A*B -2*k_2*C\"]\n",
      "\n",
      "A'=-k1*A +k_1*B -k2*A*B +k_2*C\n",
      "B'=+k1*A -k_1*B -k2*A*B +k_2*C\n",
      "C'=+2*k2*A*B -2*k_2*C\n",
      "k1=1\n",
      "k2=3\n",
      "k_1=2\n",
      "k_2=4\n",
      "\n"
     ]
    }
   ],
   "source": [
    "sim=ChemSimulation(\"\"\"\n",
    "A   -->k1->   B\n",
    "B   -->k_1->  A\n",
    "A+B -->k2->   C\n",
    "C   -->k_2->  A+B\n",
    "\"\"\",A=1,B=1,C=0,k1=1,k_1=2,k2=3,k_2=4)\n",
    "\n",
    "print()\n",
    "\n",
    "print(sim.equations())"
   ]
  },
  {
   "cell_type": "code",
   "execution_count": null,
   "id": "92c63fc7-84d8-48fb-a279-944497be7f31",
   "metadata": {},
   "outputs": [],
   "source": [
    "sim.params()"
   ]
  },
  {
   "cell_type": "code",
   "execution_count": null,
   "id": "f5c81cb7-0270-4c97-b3ce-b7e81be1adc1",
   "metadata": {},
   "outputs": [],
   "source": [
    "assert sim.equations()==\"\"\"\n",
    "A'=-k1*A +k_1*B -k2*A*B +k_2*C\n",
    "B'=+k1*A -k_1*B -k2*A*B +k_2*C\n",
    "C'=+2*k2*A*B -2*k_2*C\n",
    "k1=1\n",
    "k2=3\n",
    "k_1=2\n",
    "k_2=4\n",
    "\"\"\".lstrip()"
   ]
  },
  {
   "cell_type": "code",
   "execution_count": null,
   "id": "d596514d-20b5-4060-8dd3-230241d978e6",
   "metadata": {},
   "outputs": [],
   "source": [
    "for c in sim.components:\n",
    "    c.plot=1"
   ]
  },
  {
   "cell_type": "code",
   "execution_count": null,
   "id": "a4fed08a-9433-4e1f-858a-8f203b1294fc",
   "metadata": {},
   "outputs": [
    {
     "data": {
      "image/png": "[encoded data removed]",
      "text/plain": [
       "<Figure size 864x576 with 1 Axes>"
      ]
     },
     "metadata": {
      "needs_background": "light"
     },
     "output_type": "display_data"
    },
    {
     "data": {
      "text/plain": [
       "<Figure size 864x576 with 0 Axes>"
      ]
     },
     "metadata": {},
     "output_type": "display_data"
    }
   ],
   "source": [
    "sim.run(10)"
   ]
  },
  {
   "cell_type": "code",
   "execution_count": null,
   "id": "78779261-b625-4841-b084-0028897d8d98",
   "metadata": {},
   "outputs": [
    {
     "name": "stdout",
     "output_type": "stream",
     "text": [
      "['D'] k1 ['D', 'M']\n",
      "['M'] k2 ['M', 'P']\n",
      "['M'] k3 ['ϕ']\n",
      "['P'] k4 ['ϕ']\n"
     ]
    }
   ],
   "source": [
    "sim=ChemSimulation(\n",
    "\"\"\"\n",
    "D --k1--> D+M\n",
    "M --k2--> M+P\n",
    "M --k3--> ϕ\n",
    "P --k4--> ϕ\n",
    "\"\"\",D=1,M=0,ϕ=0,P=0,k1=.01,k3=0.00577,k4=0.0001925,k2=20*0.00577)"
   ]
  },
  {
   "cell_type": "code",
   "execution_count": null,
   "id": "4b71ce14-a821-4cb5-b1f4-e8b5c77110d8",
   "metadata": {},
   "outputs": [
    {
     "name": "stdout",
     "output_type": "stream",
     "text": [
      "D'=0\n",
      "M'=+k1*D -k3*M\n",
      "P'=+k2*M -k4*P\n",
      "k1=0.01\n",
      "k2=0.1154\n",
      "k3=0.00577\n",
      "k4=0.0001925\n",
      "\n"
     ]
    }
   ],
   "source": [
    "print(sim.equations())"
   ]
  },
  {
   "cell_type": "code",
   "execution_count": null,
   "id": "a005dcc8-3f8b-4ef5-9b00-21459a0e9877",
   "metadata": {},
   "outputs": [],
   "source": []
  }
 ],
 "metadata": {
  "kernelspec": {
   "display_name": "Python 3 (ipykernel)",
   "language": "python",
   "name": "python3"
  }
 },
 "nbformat": 4,
 "nbformat_minor": 5
}
