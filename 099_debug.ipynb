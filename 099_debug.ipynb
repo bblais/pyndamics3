{
 "cells": [
  {
   "cell_type": "code",
   "execution_count": null,
   "id": "noted-barbados",
   "metadata": {},
   "outputs": [
    {
     "name": "stdout",
     "output_type": "stream",
     "text": [
      "%pylab is deprecated, use %matplotlib inline and import the required libraries.\n",
      "Populating the interactive namespace from numpy and matplotlib\n"
     ]
    }
   ],
   "source": [
    "%pylab inline"
   ]
  },
  {
   "cell_type": "code",
   "execution_count": null,
   "id": "suffering-associate",
   "metadata": {},
   "outputs": [
    {
     "name": "stdout",
     "output_type": "stream",
     "text": [
      "pyndamics3  version  0.0.31\n"
     ]
    }
   ],
   "source": [
    "from pyndamics3 import Simulation\n",
    "from pyndamics3.fit import fit,Parameter"
   ]
  },
  {
   "cell_type": "code",
   "execution_count": null,
   "id": "moving-circuit",
   "metadata": {},
   "outputs": [],
   "source": [
    "import lmfit"
   ]
  },
  {
   "cell_type": "code",
   "execution_count": null,
   "id": "eligible-income",
   "metadata": {},
   "outputs": [],
   "source": [
    "t=array([7,14,21,28,35,42,49,56,63,70,77,84],float)\n",
    "h=array([17.93,36.36,67.76,98.10,131,169.5,205.5,228.3,247.1,250.5,253.8,254.5])"
   ]
  },
  {
   "cell_type": "code",
   "execution_count": null,
   "id": "saving-galaxy",
   "metadata": {},
   "outputs": [
    {
     "data": {
      "image/png": "[encoded data removed]",
      "text/plain": [
       "<Figure size 864x576 with 1 Axes>"
      ]
     },
     "metadata": {
      "needs_background": "light"
     },
     "output_type": "display_data"
    },
    {
     "data": {
      "text/plain": [
       "<Figure size 864x576 with 0 Axes>"
      ]
     },
     "metadata": {},
     "output_type": "display_data"
    }
   ],
   "source": [
    "sim=Simulation()\n",
    "sim.add(\"h'=a\",1,plot=True)\n",
    "sim.add_data(t=t,h=h,plot=True)\n",
    "sim.params(a=1)\n",
    "sim.run(0,90)"
   ]
  },
  {
   "cell_type": "code",
   "execution_count": null,
   "id": "extended-george",
   "metadata": {},
   "outputs": [
    {
     "data": {
      "text/html": [
       "<h2>Fit Statistics</h2><table><tr><td>fitting method</td><td>leastsq</td><td></td></tr><tr><td># function evals</td><td>12</td><td></td></tr><tr><td># data points</td><td>12</td><td></td></tr><tr><td># variables</td><td>2</td><td></td></tr><tr><td>chi-square</td><td> 5339.27222</td><td></td></tr><tr><td>reduced chi-square</td><td> 533.927222</td><td></td></tr><tr><td>Akaike info crit.</td><td> 77.1752558</td><td></td></tr><tr><td>Bayesian info crit.</td><td> 78.1450691</td><td></td></tr></table><h2>Variables</h2><table><tr><th> name </th><th> value </th><th> standard error </th><th> relative error </th><th> initial value </th><th> min </th><th> max </th><th> vary </th></tr><tr><td> a </td><td>  3.45220277 </td><td>  0.27604199 </td><td> (8.00%) </td><td> 1 </td><td>  0.00000000 </td><td>         inf </td><td> True </td></tr><tr><td> initial_h </td><td>  6.28727440 </td><td>  14.2212935 </td><td> (226.19%) </td><td> 10 </td><td>  0.00000000 </td><td>         inf </td><td> True </td></tr></table><h2>Correlations (unreported correlations are < 0.100)</h2><table><tr><td>a</td><td>initial_h</td><td>-0.8832</td></tr></table>"
      ],
      "text/plain": [
       "<lmfit.minimizer.MinimizerResult>"
      ]
     },
     "execution_count": null,
     "metadata": {},
     "output_type": "execute_result"
    }
   ],
   "source": [
    "results=fit(sim,\n",
    "   Parameter('a',value=1,min=0),\n",
    "   Parameter('initial_h',value=10,min=0))\n",
    "\n",
    "results"
   ]
  },
  {
   "cell_type": "code",
   "execution_count": null,
   "id": "demographic-alloy",
   "metadata": {},
   "outputs": [
    {
     "name": "stdout",
     "output_type": "stream",
     "text": [
      "%pylab is deprecated, use %matplotlib inline and import the required libraries.\n",
      "Populating the interactive namespace from numpy and matplotlib\n"
     ]
    }
   ],
   "source": [
    "%pylab inline"
   ]
  },
  {
   "cell_type": "code",
   "execution_count": null,
   "id": "91c4fdd4-0254-4513-b780-2a06aa8d7810",
   "metadata": {},
   "outputs": [],
   "source": [
    "from pyndamics3 import Struct"
   ]
  },
  {
   "cell_type": "code",
   "execution_count": null,
   "id": "4c002661-9b61-4d46-b12a-cbc9e18554a9",
   "metadata": {},
   "outputs": [],
   "source": [
    "\n",
    "# copied from http://be150.caltech.edu/2018/handouts/l12_stochastic_simulation.html\n",
    "\n",
    "import numba\n",
    "\n",
    "@numba.jit(nopython=True)\n",
    "def _sample_discrete(probs, probs_sum):\n",
    "    q = np.random.rand() * probs_sum\n",
    "\n",
    "    i = 0\n",
    "    p_sum = 0.0\n",
    "    while p_sum < q:\n",
    "        p_sum += probs[i]\n",
    "        i += 1\n",
    "    return i - 1\n",
    "\n",
    "\n",
    "class Stochastic_Simulation(object):\n",
    "    \n",
    "    def __init__(self):\n",
    "        self.components=[]\n",
    "        self.equations=[]\n",
    "        self.initial_values={}\n",
    "        self.current_values={}\n",
    "        self.ν=None\n",
    "        self.state_change_strings=[]\n",
    "        self.rate_equations=[]\n",
    "        self.quasi=[]\n",
    "        self._params={}\n",
    "        self._params_keys=()\n",
    "        self._params_vals=()\n",
    "    \n",
    "    def params(self,**kwargs):\n",
    "        self._params.update(kwargs)\n",
    "        self._params_keys=tuple(self._params.keys())\n",
    "        self._params_vals=tuple([self._params[_] for _ in self._params_keys])\n",
    "        \n",
    "    def add(self,component_change_equation,rate_equation=None,plot=False,quasi=None,**kwargs):\n",
    "        \n",
    "        \n",
    "        if \"=\" in component_change_equation:\n",
    "            self.equations.append(component_change_equation)\n",
    "            return \n",
    "        \n",
    "        component_change_equation=component_change_equation.replace('+',' +')\n",
    "        component_change_equation=component_change_equation.replace('-',' -')\n",
    "        \n",
    "        parts=component_change_equation.split()\n",
    "        for part in parts:\n",
    "            if not (part.startswith('-') or part.startswith('+')):\n",
    "                raise SyntaxError(\"State change strings must start with + or -: %s\" % component_change_equation)\n",
    "            name=part[1:]\n",
    "            if name not in self.components:\n",
    "                self.components.append(name)\n",
    "            \n",
    "        self.state_change_strings.append(component_change_equation)            \n",
    "        self.rate_equations.append(rate_equation)\n",
    "        self.initial_values.update(kwargs)\n",
    "        self.current_values.update(kwargs)\n",
    "        self.quasi.append(quasi)\n",
    "\n",
    "    def initialize(self):\n",
    "        import numba\n",
    "        import numpy as np\n",
    "        num_components=len(self.components)\n",
    "        num_reactions=len(self.rate_equations)\n",
    "        self.ν=np.zeros((num_reactions,num_components),int)\n",
    "        \n",
    "        for j,(state_change,rate) in enumerate(zip(self.state_change_strings,self.rate_equations)):\n",
    "            parts=state_change.split()\n",
    "            for part in parts:\n",
    "                if not (part.startswith('-') or part.startswith('+')):\n",
    "                    raise SyntaxError(\"State change strings must start with + or -: %s\" % component_change_equation)\n",
    "                name=part[1:]\n",
    "                if part[0]=='-':\n",
    "                    val=-1\n",
    "                else:\n",
    "                    val=+1\n",
    "                \n",
    "                i=self.components.index(name)\n",
    "                self.ν[j,i]=val\n",
    "                    \n",
    "\n",
    "        for c in self.initial_values:\n",
    "            if not c in self.components:\n",
    "                raise ValueError(\"%s not in components values.\" % c)\n",
    "                    \n",
    "        for c in self.components:\n",
    "            if not c in self.initial_values:\n",
    "                raise ValueError(\"%s not in initial values.\" % c)\n",
    "            \n",
    "            \n",
    "        #func_str=\"@numba.jit(nopython=True)\\ndef _propensity_function(population, args):\\n\"\n",
    "        func_str=\"@numba.jit(nopython=True)\\ndef _propensity_function_abcde(population, args):\\n\"\n",
    "\n",
    "        func_str+=\"    \"\n",
    "        \n",
    "        if len(self.components)>1:        \n",
    "            func_str+=\",\".join(self.components) + \" = population\\n\"\n",
    "        else:\n",
    "            func_str+=self.components[0] + \", = population\\n\"\n",
    "                        \n",
    "        if self._params_keys:\n",
    "            func_str+=\"    \"\n",
    "            if len(self._params_keys)>1:        \n",
    "                func_str+=\",\".join(self._params_keys)+ \" = args\\n\"\n",
    "            else:\n",
    "                func_str+=self._params_keys[0]+ \", = args\\n\"\n",
    "            \n",
    "        func_str+=\"    \"+\"\\n\"\n",
    "\n",
    "        for eq in self.equations:\n",
    "            func_str+=\"    \"+eq+\"\\n\"\n",
    "\n",
    "\n",
    "        func_str+=\"    \"+\"\\n\"\n",
    "\n",
    "\n",
    "        func_str+=\"    \"+\"val = np.array([\\n\"\n",
    "        for a in self.rate_equations:\n",
    "            func_str+=\"        \"+a+\",\\n\"\n",
    "        func_str+=\"    \"+\"],float)\\n\"\n",
    "\n",
    "        for qi,q in enumerate(self.quasi):\n",
    "            if not q:\n",
    "                continue\n",
    "                \n",
    "            func_str+=\"    \"+f\"if ({q}):\\n\"\n",
    "            func_str+=\"    \"+\"    \"+f\"val[{qi}]=0\\n\"\n",
    "        \n",
    "            func_str+=\"    \"+f\"if ((A==0) or (B==0)):\\n\"\n",
    "            func_str+=\"    \"+\"    \"+f\"raise ValueError()\\n\"\n",
    "                \n",
    "        \n",
    "        func_str+=\"    \"+\"return val\"\n",
    "        \n",
    "        \n",
    "        self.func_str=func_str\n",
    "            \n",
    "        exec (func_str,globals())                      \n",
    "        self.propensity_function=_propensity_function_abcde\n",
    "        \n",
    "    def run(self,t_max,Nsims=1,num_iterations=1001,):\n",
    "        from tqdm import tqdm\n",
    "        \n",
    "        \n",
    "        if self.ν is None:\n",
    "            self.initialize()\n",
    "\n",
    "        _propensity_function=self.propensity_function\n",
    "        \n",
    "        \n",
    "        @numba.jit(nopython=True)\n",
    "        def _ssa(update, population_0, time_points, args):\n",
    "            # Initialize output\n",
    "            pop_out = np.empty((len(time_points), update.shape[1]), dtype=np.int64)\n",
    "\n",
    "            # Initialize and perform simulation\n",
    "            i_time = 1\n",
    "            i = 0\n",
    "            t = time_points[0]\n",
    "            population = population_0.copy()\n",
    "            pop_out[0,:] = population\n",
    "            extinction_time=-1.0\n",
    "            previous_t=t\n",
    "            while i < len(time_points):\n",
    "                while t < time_points[i_time]:\n",
    "                    # draw the event and time step\n",
    "                    event, dt = _draw(population, args)\n",
    "\n",
    "                    # Update the population\n",
    "                    population_previous = population.copy()\n",
    "                    population += update[event,:]\n",
    "\n",
    "                    # Increment time\n",
    "                    previous_t=t\n",
    "                    t += dt\n",
    "\n",
    "\n",
    "                if dt==1e500 and extinction_time<0.0:\n",
    "                    extinction_time=previous_t\n",
    "\n",
    "                # Update the index (Have to be careful about types for Numba)\n",
    "                i = np.searchsorted((time_points > t).astype(np.int64), 1)\n",
    "\n",
    "                # Update the population\n",
    "                for j in np.arange(i_time, min(i, len(time_points))):\n",
    "                    pop_out[j,:] = population_previous\n",
    "\n",
    "                # Increment index\n",
    "                i_time = i\n",
    "\n",
    "            return pop_out,extinction_time\n",
    "        \n",
    "        @numba.jit(nopython=True)\n",
    "        def _draw(population, args):\n",
    "            \"\"\"\n",
    "            Draws a reaction and the time it took to do that reaction.\n",
    "\n",
    "            Assumes that there is a globally scoped function\n",
    "            `prop_func` that is Numba'd with nopython=True.\n",
    "            \"\"\"\n",
    "            # Compute propensities\n",
    "            props = _propensity_function(population, args)\n",
    "\n",
    "            # Sum of propensities\n",
    "            props_sum = np.sum(props)\n",
    "\n",
    "            if props_sum==0:\n",
    "                time=1e500\n",
    "                rxn=0\n",
    "            else:\n",
    "\n",
    "                # Compute time\n",
    "                time = np.random.exponential(1 / props_sum)\n",
    "\n",
    "                # Draw reaction given propensities\n",
    "                rxn = _sample_discrete(props, props_sum)\n",
    "\n",
    "            return rxn, time\n",
    "\n",
    "        \n",
    "        self.all_storage=[]\n",
    "        \n",
    "        disable=Nsims==1\n",
    "        \n",
    "        population_0=np.array([self.initial_values[c] for c in self.components], dtype=int)\n",
    "        time_points=np.linspace(0,t_max,num_iterations)        \n",
    "        args = np.array(self._params_vals)\n",
    "        n_simulations = Nsims\n",
    "\n",
    "        # Initialize output array\n",
    "        pops = np.empty((n_simulations, len(time_points), len(population_0)), dtype=int)\n",
    "        extinction_time=np.empty(n_simulations,dtype=np.float64)\n",
    "\n",
    "        # Run the calculations\n",
    "        for _i in tqdm(range(n_simulations),disable=disable):\n",
    "            pops[_i,:,:],extinction_time[_i] = _ssa(self.ν, \n",
    "                                        population_0, time_points, args=args)            \n",
    "\n",
    "        self.t=time_points\n",
    "        self.extinction_times=extinction_time\n",
    "        D={}\n",
    "        for _i,c in enumerate(self.components):\n",
    "            v=pops[:,:,_i]\n",
    "            if v.shape[0]==1:\n",
    "                v=v.ravel()\n",
    "                \n",
    "            setattr(self, c,v)\n",
    "            D[c]=v\n",
    "        \n",
    "        for eq in self.equations:\n",
    "            exec(eq,D)\n",
    "            name=eq.split('=')[0].strip()\n",
    "            setattr(self, name,D[name])\n",
    "\n",
    "  "
   ]
  },
  {
   "cell_type": "code",
   "execution_count": null,
   "id": "9eb7d986-8538-4021-b3dd-ed2018bfce49",
   "metadata": {},
   "outputs": [],
   "source": [
    "# β=0.2\n",
    "# γ=0.1\n",
    "# So=990\n",
    "# Io=10\n",
    "\n",
    "# stoch_sim=sim=Stochastic_Simulation()\n",
    "# sim.add(\"+A\",'A',A=1)\n",
    "# sim.add(\"-A\",'A**2/10')\n",
    "# sim.run(10,Nsims=100)\n",
    "\n",
    "# for i in range(100):    \n",
    "#     plot(sim.t,sim.A[i],'b-o',alpha=0.05)"
   ]
  },
  {
   "cell_type": "code",
   "execution_count": null,
   "id": "f7cb7f3b-2005-4f25-87a8-ab17d2f978f8",
   "metadata": {},
   "outputs": [],
   "source": [
    "# β=0.2\n",
    "# γ=0.1\n",
    "# So=990\n",
    "# Io=10\n",
    "\n",
    "# stoch_sim=sim=Stochastic_Simulation()\n",
    "# sim.add(\"+A\",'A',A=1)\n",
    "# sim.add(\"-A\",'A**2/10',quasi='A==1')\n",
    "# sim.run(10,Nsims=100)\n",
    "\n",
    "# for i in range(100):    \n",
    "#     plot(sim.t,sim.A[i],'b-o',alpha=0.05)"
   ]
  },
  {
   "cell_type": "code",
   "execution_count": null,
   "id": "57cc21ca-b56d-4cae-a326-6d059a0570ca",
   "metadata": {},
   "outputs": [
    {
     "name": "stdout",
     "output_type": "stream",
     "text": [
      "def _simfunc(_vec,t,_sim):\n",
      "    initial_h=_sim.initial_value['h']\n",
      "\n",
      "    a=_sim.original_params['a']\n",
      "\n",
      "    h=_vec[0]\n",
      "\n",
      "\n",
      "    _diff=[]\n",
      "    _val=a\n",
      "    _diff.append(_val)\n",
      "\n",
      "    return _diff\n",
      "\n"
     ]
    }
   ],
   "source": [
    "print(sim.func_str)"
   ]
  },
  {
   "cell_type": "code",
   "execution_count": null,
   "id": "d948bed6-7c9e-4c6c-b521-b500776387ce",
   "metadata": {},
   "outputs": [],
   "source": [
    "@numba.jit(nopython=True)\n",
    "def _propensity_function_abcde(population, args):\n",
    "    A, = population\n",
    "    \n",
    "    \n",
    "    val = np.array([\n",
    "        A,\n",
    "        A**2/10,\n",
    "    ],float)\n",
    "    return val"
   ]
  },
  {
   "cell_type": "markdown",
   "id": "7da4f879-51c9-485c-91e6-b920d78fd45b",
   "metadata": {},
   "source": [
    "## Is there a problem with X'=0?"
   ]
  },
  {
   "cell_type": "code",
   "execution_count": null,
   "id": "e7d36027-3126-4b0d-abc7-b99bf82c7f9f",
   "metadata": {},
   "outputs": [],
   "source": [
    "from pyndamics3 import Simulation"
   ]
  },
  {
   "cell_type": "code",
   "execution_count": null,
   "id": "d9a9c3d1-a664-4d9e-9342-ed91cdca2175",
   "metadata": {},
   "outputs": [
    {
     "data": {
      "image/png": "[encoded data removed]",
      "text/plain": [
       "<Figure size 864x576 with 1 Axes>"
      ]
     },
     "metadata": {
      "needs_background": "light"
     },
     "output_type": "display_data"
    },
    {
     "data": {
      "text/plain": [
       "<Figure size 432x288 with 0 Axes>"
      ]
     },
     "metadata": {},
     "output_type": "display_data"
    }
   ],
   "source": [
    "sim=Simulation()\n",
    "sim.add(\"X'=0\",5,plot=True)\n",
    "sim.params(α=5)\n",
    "sim.run(10)"
   ]
  },
  {
   "cell_type": "code",
   "execution_count": null,
   "id": "88633631-d5ee-4708-a829-d424696d73f4",
   "metadata": {},
   "outputs": [
    {
     "data": {
      "text/plain": [
       "{'α': 5}"
      ]
     },
     "execution_count": null,
     "metadata": {},
     "output_type": "execute_result"
    }
   ],
   "source": [
    "sim.original_params"
   ]
  },
  {
   "cell_type": "code",
   "execution_count": null,
   "id": "d4df8b0f-ae11-4212-b84b-a0b40ac5a641",
   "metadata": {},
   "outputs": [],
   "source": [
    "from pyndamics3.chem import ChemSimulation"
   ]
  },
  {
   "cell_type": "code",
   "execution_count": null,
   "id": "fb322fc6-675d-4a69-a5b8-6bcb0cf17262",
   "metadata": {},
   "outputs": [
    {
     "name": "stdout",
     "output_type": "stream",
     "text": [
      "['D'] k1 ['D', 'M']\n",
      "['M'] k2 ['M', 'P']\n",
      "['M'] k3 ['ϕ']\n",
      "['P'] k4 ['ϕ']\n",
      "Components ['D', 'M', 'P', 'ϕ']\n",
      "Parameters ['k1', 'k2', 'k3', 'k4']\n",
      "diffeqs [\"D' = 0\", \"M' =  +k1*D -k3*M\", \"P' =  +k2*M -k4*P\"]\n"
     ]
    }
   ],
   "source": [
    "sim=ChemSimulation(\n",
    "\"\"\"\n",
    "D --k1--> D+M\n",
    "M --k2--> M+P\n",
    "M --k3--> ϕ\n",
    "P --k4--> ϕ\n",
    "\"\"\",D=1,M=0,ϕ=0,P=0,k1=.01,k3=0.00577,k4=0.0001925,k2=20*0.00577)"
   ]
  },
  {
   "cell_type": "code",
   "execution_count": null,
   "id": "d3cede28-3e04-4050-93a0-404e8bd3e84c",
   "metadata": {},
   "outputs": [
    {
     "data": {
      "text/plain": [
       "{'from_values': <function pyndamics3.core.array_wrap.<locals>.what(*args, **kw)>,\n",
       " 'sin': <function pyndamics3.core.array_wrap.<locals>.what(*args, **kw)>,\n",
       " 'cos': <function pyndamics3.core.array_wrap.<locals>.what(*args, **kw)>,\n",
       " 'exp': <function pyndamics3.core.array_wrap.<locals>.what(*args, **kw)>,\n",
       " 'tan': <function pyndamics3.core.array_wrap.<locals>.what(*args, **kw)>,\n",
       " 'abs': <function pyndamics3.core.array_wrap.<locals>.what(*args, **kw)>,\n",
       " 'floor': <function pyndamics3.core.array_wrap.<locals>.what(*args, **kw)>,\n",
       " 'ceil': <function pyndamics3.core.array_wrap.<locals>.what(*args, **kw)>,\n",
       " 'radians': <function pyndamics3.core.array_wrap.<locals>.what(*args, **kw)>,\n",
       " 'degrees': <function pyndamics3.core.array_wrap.<locals>.what(*args, **kw)>,\n",
       " 'sinh': <function pyndamics3.core.array_wrap.<locals>.what(*args, **kw)>,\n",
       " 'cosh': <function pyndamics3.core.array_wrap.<locals>.what(*args, **kw)>,\n",
       " 'tanh': <function pyndamics3.core.array_wrap.<locals>.what(*args, **kw)>,\n",
       " 'arccos': <function pyndamics3.core.array_wrap.<locals>.what(*args, **kw)>,\n",
       " 'arcsin': <function pyndamics3.core.array_wrap.<locals>.what(*args, **kw)>,\n",
       " 'arctan': <function pyndamics3.core.array_wrap.<locals>.what(*args, **kw)>,\n",
       " 'arctan2': <function pyndamics3.core.array_wrap.<locals>.what(*args, **kw)>,\n",
       " 'min': <function pyndamics3.core.array_wrap.<locals>.what(*args, **kw)>,\n",
       " 'max': <function pyndamics3.core.array_wrap.<locals>.what(*args, **kw)>,\n",
       " 'sqrt': <function pyndamics3.core.array_wrap.<locals>.what(*args, **kw)>,\n",
       " 'log': <function pyndamics3.core.array_wrap.<locals>.what(*args, **kw)>,\n",
       " 'log10': <function pyndamics3.core.array_wrap.<locals>.what(*args, **kw)>,\n",
       " 'mean': <function pyndamics3.core.array_wrap.<locals>.what(*args, **kw)>,\n",
       " 'median': <function pyndamics3.core.array_wrap.<locals>.what(*args, **kw)>,\n",
       " 'pi': 3.141592653589793,\n",
       " 'inf': inf,\n",
       " 'k1': 0.01,\n",
       " 'k2': 0.1154,\n",
       " 'k3': 0.00577,\n",
       " 'k4': 0.0001925}"
      ]
     },
     "execution_count": null,
     "metadata": {},
     "output_type": "execute_result"
    }
   ],
   "source": [
    "sim.myparams"
   ]
  },
  {
   "cell_type": "code",
   "execution_count": null,
   "id": "8f2404f0-45af-4912-9fb3-29a01898a9a4",
   "metadata": {},
   "outputs": [],
   "source": [
    "sim.run(10)"
   ]
  },
  {
   "cell_type": "code",
   "execution_count": null,
   "id": "937b783e-008e-4833-87be-472175a4fa5e",
   "metadata": {},
   "outputs": [
    {
     "data": {
      "text/plain": [
       "\"D'=0\\nM'=+k1*D -k3*M\\nP'=+k2*M -k4*P\\nk1=0.01\\nk2=0.1154\\nk3=0.00577\\nk4=0.0001925\\n\""
      ]
     },
     "execution_count": null,
     "metadata": {},
     "output_type": "execute_result"
    }
   ],
   "source": [
    "sim.equations()"
   ]
  },
  {
   "cell_type": "code",
   "execution_count": null,
   "id": "117f7512-cbf9-4e0f-a233-3c89f3567a41",
   "metadata": {},
   "outputs": [
    {
     "name": "stdout",
     "output_type": "stream",
     "text": [
      "def _simfunc(_vec,t,_sim):\n",
      "    initial_D=_sim.initial_value['D']\n",
      "    initial_M=_sim.initial_value['M']\n",
      "    initial_P=_sim.initial_value['P']\n",
      "\n",
      "    k1=_sim.original_params['k1']\n",
      "    k2=_sim.original_params['k2']\n",
      "    k3=_sim.original_params['k3']\n",
      "    k4=_sim.original_params['k4']\n",
      "\n",
      "    D=_vec[0]\n",
      "    M=_vec[1]\n",
      "    P=_vec[2]\n",
      "\n",
      "\n",
      "    _diff=[]\n",
      "    _val=0\n",
      "    _diff.append(_val)\n",
      "    _val=+k1*D -k3*M\n",
      "    _diff.append(_val)\n",
      "    _val=+k2*M -k4*P\n",
      "    _diff.append(_val)\n",
      "\n",
      "    return _diff\n",
      "\n"
     ]
    }
   ],
   "source": [
    "print(sim.func_str)"
   ]
  },
  {
   "cell_type": "code",
   "execution_count": null,
   "id": "7b7c7f06-19d5-4ba2-87ab-8019d6191aff",
   "metadata": {},
   "outputs": [
    {
     "name": "stdout",
     "output_type": "stream",
     "text": [
      "D'=0\n",
      "M'=+k1*D -k3*M\n",
      "P'=+k2*M -k4*P\n",
      "k1=0.01\n",
      "k2=0.1154\n",
      "k3=0.00577\n",
      "k4=0.0001925\n",
      "\n"
     ]
    }
   ],
   "source": [
    "print(sim.equations())"
   ]
  },
  {
   "cell_type": "code",
   "execution_count": null,
   "id": "bae4d880-80e6-465a-a5bd-c22ca822940a",
   "metadata": {},
   "outputs": [],
   "source": [
    "sim.params()"
   ]
  },
  {
   "cell_type": "code",
   "execution_count": null,
   "id": "d897d098-f349-45ad-b5f1-f672ec5b74c5",
   "metadata": {},
   "outputs": [],
   "source": []
  },
  {
   "cell_type": "code",
   "execution_count": null,
   "id": "861bef39-6c79-4f72-bebd-1a0f8a211486",
   "metadata": {},
   "outputs": [],
   "source": []
  }
 ],
 "metadata": {
  "kernelspec": {
   "display_name": "python3",
   "language": "python",
   "name": "python3"
  }
 },
 "nbformat": 4,
 "nbformat_minor": 5
}
