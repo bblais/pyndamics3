{
 "cells": [
  {
   "cell_type": "code",
   "execution_count": null,
   "id": "noted-barbados",
   "metadata": {},
   "outputs": [
    {
     "name": "stdout",
     "output_type": "stream",
     "text": [
      "Populating the interactive namespace from numpy and matplotlib\n"
     ]
    }
   ],
   "source": [
    "%pylab inline"
   ]
  },
  {
   "cell_type": "code",
   "execution_count": null,
   "id": "suffering-associate",
   "metadata": {},
   "outputs": [
    {
     "name": "stdout",
     "output_type": "stream",
     "text": [
      "pyndamics3  version  0.0.6\n"
     ]
    }
   ],
   "source": [
    "from pyndamics3 import Simulation\n",
    "from pyndamics3.fit import fit,Parameter"
   ]
  },
  {
   "cell_type": "code",
   "execution_count": null,
   "id": "moving-circuit",
   "metadata": {},
   "outputs": [],
   "source": [
    "import lmfit"
   ]
  },
  {
   "cell_type": "code",
   "execution_count": null,
   "id": "eligible-income",
   "metadata": {},
   "outputs": [],
   "source": [
    "t=array([7,14,21,28,35,42,49,56,63,70,77,84],float)\n",
    "h=array([17.93,36.36,67.76,98.10,131,169.5,205.5,228.3,247.1,250.5,253.8,254.5])\n"
   ]
  },
  {
   "cell_type": "code",
   "execution_count": null,
   "id": "saving-galaxy",
   "metadata": {},
   "outputs": [
    {
     "data": {
      "image/png": "[encoded data removed]",
      "text/plain": [
       "<Figure size 864x576 with 1 Axes>"
      ]
     },
     "metadata": {
      "needs_background": "light"
     },
     "output_type": "display_data"
    },
    {
     "data": {
      "text/plain": [
       "<Figure size 864x576 with 0 Axes>"
      ]
     },
     "metadata": {},
     "output_type": "display_data"
    }
   ],
   "source": [
    "sim=Simulation()\n",
    "sim.add(\"h'=a\",1,plot=True)\n",
    "sim.add_data(t=t,h=h,plot=True)\n",
    "sim.params(a=1)\n",
    "sim.run(0,90)\n"
   ]
  },
  {
   "cell_type": "code",
   "execution_count": null,
   "id": "extended-george",
   "metadata": {},
   "outputs": [
    {
     "data": {
      "text/html": [
       "<h2>Fit Statistics</h2><table><tr><td>fitting method</td><td>leastsq</td><td></td></tr><tr><td># function evals</td><td>12</td><td></td></tr><tr><td># data points</td><td>12</td><td></td></tr><tr><td># variables</td><td>2</td><td></td></tr><tr><td>chi-square</td><td> 5339.27222</td><td></td></tr><tr><td>reduced chi-square</td><td> 533.927222</td><td></td></tr><tr><td>Akaike info crit.</td><td> 77.1752558</td><td></td></tr><tr><td>Bayesian info crit.</td><td> 78.1450691</td><td></td></tr></table><h2>Variables</h2><table><tr><th> name </th><th> value </th><th> standard error </th><th> relative error </th><th> initial value </th><th> min </th><th> max </th><th> vary </th></tr><tr><td> a </td><td>  3.45220277 </td><td>  0.27604199 </td><td> (8.00%) </td><td> 1 </td><td>  0.00000000 </td><td>         inf </td><td> True </td></tr><tr><td> initial_h </td><td>  6.28727440 </td><td>  14.2212935 </td><td> (226.19%) </td><td> 10 </td><td>  0.00000000 </td><td>         inf </td><td> True </td></tr></table><h2>Correlations (unreported correlations are < 0.100)</h2><table><tr><td>a</td><td>initial_h</td><td>-0.8832</td></tr></table>"
      ],
      "text/plain": [
       "<lmfit.minimizer.MinimizerResult at 0x7f8a39109df0>"
      ]
     },
     "execution_count": null,
     "metadata": {},
     "output_type": "execute_result"
    }
   ],
   "source": [
    "results=fit(sim,\n",
    "   Parameter('a',value=1,min=0),\n",
    "   Parameter('initial_h',value=10,min=0))\n",
    "\n",
    "results"
   ]
  },
  {
   "cell_type": "code",
   "execution_count": null,
   "id": "demographic-alloy",
   "metadata": {},
   "outputs": [],
   "source": []
  }
 ],
 "metadata": {
  "kernelspec": {
   "display_name": "Python 3",
   "language": "python",
   "name": "python3"
  }
 },
 "nbformat": 4,
 "nbformat_minor": 5
}
